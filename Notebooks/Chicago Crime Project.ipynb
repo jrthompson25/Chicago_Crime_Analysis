{
 "cells": [
  {
   "cell_type": "code",
   "execution_count": null,
   "id": "f9ae408f",
   "metadata": {},
   "outputs": [],
   "source": [
    "#Importing Python Packages\n",
    "import pandas as pd\n",
    "import matplotlib.pyplot as plt\n",
    "import seaborn as sns"
   ]
  },
  {
   "cell_type": "code",
   "execution_count": null,
   "id": "7147c393",
   "metadata": {},
   "outputs": [],
   "source": [
    "#Reading in Chicago Crime File\n",
    "chicagoCrimeDataSet = pd.read_csv('../data/Chicago_Crime.csv')\n",
    "chicagoCrimeDataSet.head()"
   ]
  },
  {
   "cell_type": "code",
   "execution_count": null,
   "id": "a8948cb2",
   "metadata": {},
   "outputs": [],
   "source": [
    "#Checking Info of Dataset\n",
    "chicagoCrimeDataSet.info()"
   ]
  },
  {
   "cell_type": "code",
   "execution_count": null,
   "id": "26605cc5",
   "metadata": {},
   "outputs": [],
   "source": [
    "chicagoCrimeDataSet['CASE#'].count()"
   ]
  },
  {
   "cell_type": "code",
   "execution_count": null,
   "id": "eb3e7edf",
   "metadata": {},
   "outputs": [],
   "source": [
    "chicagoCrimeDataSet['CASE#'].nunique()"
   ]
  },
  {
   "cell_type": "code",
   "execution_count": null,
   "id": "4526a8a4",
   "metadata": {},
   "outputs": [],
   "source": [
    "chicagoCrimeDataSetCleaned = chicagoCrimeDataSet.dropna()\n",
    "chicagoCrimeDataSetCleaned = chicagoCrimeDataSetCleaned.drop_duplicates()"
   ]
  },
  {
   "cell_type": "code",
   "execution_count": null,
   "id": "f5beae58",
   "metadata": {},
   "outputs": [],
   "source": [
    "chicagoCrimeDataSetCleaned.info()"
   ]
  },
  {
   "cell_type": "code",
   "execution_count": null,
   "id": "433f7211",
   "metadata": {},
   "outputs": [],
   "source": [
    "#Creating occurrence year column\n",
    "chicagoCrimeDataSetCleaned['OCCURRENCE YEAR'] = chicagoCrimeDataSetCleaned['DATE  OF OCCURRENCE'].str[6:10]\n",
    "chicagoCrimeDataSetCleaned['OCCURRENCE YEAR']"
   ]
  },
  {
   "cell_type": "code",
   "execution_count": null,
   "id": "057378c7",
   "metadata": {},
   "outputs": [],
   "source": [
    "#Creating occurrence month column\n",
    "chicagoCrimeDataSetCleaned['OCCURRENCE MONTH'] = chicagoCrimeDataSetCleaned['DATE  OF OCCURRENCE'].str[0:2]\n",
    "chicagoCrimeDataSetCleaned['OCCURRENCE MONTH']"
   ]
  },
  {
   "cell_type": "code",
   "execution_count": null,
   "id": "c28efbde",
   "metadata": {},
   "outputs": [],
   "source": [
    "#Number of months there is data present for 2021 in dataset\n",
    "crimesPerMonth2021 = chicagoCrimeDataSetCleaned[chicagoCrimeDataSetCleaned['OCCURRENCE YEAR'].isin(['2021'])]\n",
    "crimesPerMonth2021['OCCURRENCE MONTH'].nunique()"
   ]
  },
  {
   "cell_type": "code",
   "execution_count": null,
   "id": "4b0a6c7b",
   "metadata": {},
   "outputs": [],
   "source": [
    "#Number of months there is data present for 2022 in dataset\n",
    "crimesPerMonth2022 = chicagoCrimeDataSetCleaned[chicagoCrimeDataSetCleaned['OCCURRENCE YEAR'].isin(['2022'])]\n",
    "crimesPerMonth2022['OCCURRENCE MONTH'].nunique()"
   ]
  },
  {
   "cell_type": "code",
   "execution_count": null,
   "id": "cfbff742",
   "metadata": {},
   "outputs": [],
   "source": [
    "#Crime Occurrences Per Month for 2021\n",
    "crimesPerMonth2021_df = crimesPerMonth2021.groupby(['OCCURRENCE YEAR','OCCURRENCE MONTH'])['CASE#'].count().to_frame()\n",
    "crimesPerMonth2021_df.rename(columns = {'CASE#':'OCCURRENCE'}, inplace = True)\n",
    "crimesPerMonth2021_df = crimesPerMonth2021_df.reset_index()\n",
    "crimesPerMonth2021_df = crimesPerMonth2021_df.sort_values(by='OCCURRENCE MONTH', ascending=True)\n",
    "crimesPerMonth2021_df"
   ]
  },
  {
   "cell_type": "code",
   "execution_count": null,
   "id": "cbb21f5b",
   "metadata": {},
   "outputs": [],
   "source": [
    "#Crime Occurrences Per Month for 2021\n",
    "crimesPerMonth2022_df = crimesPerMonth2022.groupby(['OCCURRENCE YEAR','OCCURRENCE MONTH'])['CASE#'].count().to_frame()\n",
    "crimesPerMonth2022_df.rename(columns = {'CASE#':'OCCURRENCE'}, inplace = True)\n",
    "crimesPerMonth2022_df = crimesPerMonth2022_df.reset_index()\n",
    "crimesPerMonth2022_df = crimesPerMonth2022_df.sort_values(by='OCCURRENCE MONTH', ascending=True)\n",
    "crimesPerMonth2022_df"
   ]
  },
  {
   "cell_type": "code",
   "execution_count": null,
   "id": "02baf6c9",
   "metadata": {},
   "outputs": [],
   "source": [
    "#Crime numbers for 2021...up drastically from October to November, but only down slightly from November to December\n",
    "plt.plot(crimesPerMonth2021_df['OCCURRENCE MONTH'], crimesPerMonth2021_df['OCCURRENCE'])\n",
    "plt.title(\"Crime Occurrences per Month for 2021\", fontsize=18)\n",
    "plt.xlabel('Month', fontsize=12)\n",
    "plt.ylabel('Number of Occurrences', fontsize=12)\n",
    "plt.show();"
   ]
  },
  {
   "cell_type": "code",
   "execution_count": null,
   "id": "dd5a1569",
   "metadata": {},
   "outputs": [],
   "source": [
    "#Crime for the months that we have data on in 2022...almost a steady incline\n",
    "#Data was acquired in October of 2022 - the drop from September to October cannot solely be attributed to a decrease in crime,\n",
    "#if there was one. October was ongoing at the time of data acquisition so not all crime is recorded.\n",
    "plt.plot(crimesPerMonth2022_df['OCCURRENCE MONTH'], crimesPerMonth2022_df['OCCURRENCE'])\n",
    "plt.title(\"Crime Occurrences per Month for 2022\", fontsize=18)\n",
    "plt.xlabel('Month', fontsize=12)\n",
    "plt.ylabel('Number of Occurrences', fontsize=12)\n",
    "plt.show();"
   ]
  },
  {
   "cell_type": "code",
   "execution_count": null,
   "id": "fcbcce55",
   "metadata": {},
   "outputs": [],
   "source": [
    "#Number of unique crime types in 2021\n",
    "descriptCount2021 = crimesPerMonth2021[' PRIMARY DESCRIPTION'].nunique()\n",
    "descriptCount2021"
   ]
  },
  {
   "cell_type": "code",
   "execution_count": null,
   "id": "c8f3c9d7",
   "metadata": {},
   "outputs": [],
   "source": [
    "#Number of each crime type in 2021\n",
    "descriptValCounts2021_df = crimesPerMonth2021[' PRIMARY DESCRIPTION'].value_counts().to_frame()\n",
    "descriptValCounts2021_df.rename(columns = {' PRIMARY DESCRIPTION':'OCCURRENCES'}, inplace = True)\n",
    "descriptValCounts2021_df = descriptValCounts2021_df.reset_index()\n",
    "descriptValCounts2021_df = descriptValCounts2021_df.sort_values(by='OCCURRENCES', ascending=False)\n",
    "descriptValCounts2021_df.rename(columns = {'index':'DESCRIPTION'}, inplace = True)\n",
    "topTenDescriptValCounts2021_df = descriptValCounts2021_df.head(10)\n",
    "topTenDescriptValCounts2021_df"
   ]
  },
  {
   "cell_type": "code",
   "execution_count": null,
   "id": "eb76cf42",
   "metadata": {},
   "outputs": [],
   "source": [
    "sns.set(font_scale = 10)\n",
    "sns.set_style('darkgrid')\n",
    "sns.set(rc={\"figure.figsize\":(15,12)})\n",
    "cmap = sns.color_palette('ch:s=.25,rot=-.25')\n",
    "ax = sns.barplot(x='DESCRIPTION', y='OCCURRENCES', data=topTenDescriptValCounts2021_df, palette=cmap)\n",
    "cmap = sns.color_palette('viridis')\n",
    "plt.xlabel('CRIME TYPES', fontdict= {'fontsize':20})\n",
    "plt.ylabel('NUMBER OF OCCURRENCES', fontdict= {'fontsize':20})\n",
    "plt.title(\"NUMBER OF CRIMES BY TYPE (2021)\",fontdict= { 'fontsize': 25, 'verticalalignment': 'center'}, y=1.02)\n",
    "plt.xticks(fontsize=17, rotation=75)\n",
    "plt.yticks(fontsize=17)\n",
    ";"
   ]
  },
  {
   "cell_type": "code",
   "execution_count": null,
   "id": "5abca2dd",
   "metadata": {},
   "outputs": [],
   "source": [
    "descriptCount2022 = crimesPerMonth2022[' PRIMARY DESCRIPTION'].nunique()\n",
    "descriptCount2022"
   ]
  },
  {
   "cell_type": "code",
   "execution_count": null,
   "id": "00b89d39",
   "metadata": {},
   "outputs": [],
   "source": [
    "descriptValCounts2022_df = crimesPerMonth2022[' PRIMARY DESCRIPTION'].value_counts().to_frame()\n",
    "descriptValCounts2022_df.rename(columns = {' PRIMARY DESCRIPTION':'OCCURRENCES'}, inplace = True)\n",
    "descriptValCounts2022_df = descriptValCounts2022_df.reset_index()\n",
    "descriptValCounts2022_df = descriptValCounts2022_df.sort_values(by='OCCURRENCES', ascending=False)\n",
    "descriptValCounts2022_df.rename(columns = {'index':'DESCRIPTION'}, inplace = True)\n",
    "topTenDescriptValCounts2022_df = descriptValCounts2022_df.head(10)\n",
    "topTenDescriptValCounts2022_df"
   ]
  },
  {
   "cell_type": "code",
   "execution_count": null,
   "id": "222962bf",
   "metadata": {},
   "outputs": [],
   "source": []
  },
  {
   "cell_type": "code",
   "execution_count": null,
   "id": "3bc19b32",
   "metadata": {},
   "outputs": [],
   "source": [
    "sns.set(font_scale = 10)\n",
    "sns.set_style('darkgrid')\n",
    "sns.set(rc={\"figure.figsize\":(15,12)})\n",
    "cmap = sns.color_palette('ch:s=.25,rot=-.25')\n",
    "ax = sns.barplot(x='DESCRIPTION', y='OCCURRENCES', data=topTenDescriptValCounts2022_df, palette=cmap)\n",
    "cmap = sns.color_palette('viridis')\n",
    "plt.xlabel('CRIME TYPES', fontdict= {'fontsize':20})\n",
    "plt.ylabel('NUMBER OF OCCURRENCES', fontdict= {'fontsize':20})\n",
    "plt.title(\"NUMBER OF CRIMES BY TYPE (2021)\",fontdict= { 'fontsize': 25, 'verticalalignment': 'center'}, y=1.02)\n",
    "plt.xticks(fontsize=17, rotation=75)\n",
    "plt.yticks(fontsize=17)\n",
    ";"
   ]
  },
  {
   "cell_type": "code",
   "execution_count": null,
   "id": "8c2357de",
   "metadata": {},
   "outputs": [],
   "source": []
  }
 ],
 "metadata": {
  "kernelspec": {
   "display_name": "Python 3 (ipykernel)",
   "language": "python",
   "name": "python3"
  },
  "language_info": {
   "codemirror_mode": {
    "name": "ipython",
    "version": 3
   },
   "file_extension": ".py",
   "mimetype": "text/x-python",
   "name": "python",
   "nbconvert_exporter": "python",
   "pygments_lexer": "ipython3",
   "version": "3.9.7"
  }
 },
 "nbformat": 4,
 "nbformat_minor": 5
}
